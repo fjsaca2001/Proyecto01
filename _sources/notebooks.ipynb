{
 "cells": [
  {
   "cell_type": "markdown",
   "metadata": {},
   "source": [
    "# Materias Faltantes\n",
    "\n",
    "Estas son las materias que aun falta completar.\n",
    "\n",
    "## Sexto Ciclo\n",
    "\n",
    "- Gestión de la Calidad de Software\n- Ingenierira de Requisitos\n- Teoria de Automatas y Compiladores\n",
    "- Fundamentos de Redes\n- Practicum 2.2\n- Plataformas Web\n",
    "\n",
    "## Septimo Ciclo\n",
    "\n",
    "- Arquitectura de Software\n- Fundamentos de Inteligencia Artificial\n- Redes y Sistemas Distribuidos\n",
    "- Practicum 3\n- Plataformas Moviles\n- Emprendimiento\n",
    "\n",
    "## Octavo Ciclo\n",
    "\n",
    "- Representacion Avanzada del Conocimiento y Razonamiento\n- Computacion Paralela y Distribuida\n",
    "- Practicum 4.1\n- Plataformas para Juegos\n- Emprendimiento de base tecnologica 1\n- Composición de Textos Cientificos\n",
    "## Noveno Ciclo\n",
    "\n",
    "- Gestión de Proyectos\n- Tecnologias Emergentes\n- Sistemas Inteligentes\n",
    "- Emprendimiento de base tecnologica 2\n- Practicum 4.2\n"
   ]
  }
 ],
 "metadata": {
  "kernelspec": {
   "display_name": "Python 3",
   "language": "python",
   "name": "python3"
  },
  "language_info": {
   "codemirror_mode": {
    "name": "ipython",
    "version": 3
   },
   "file_extension": ".py",
   "mimetype": "text/x-python",
   "name": "python",
   "nbconvert_exporter": "python",
   "pygments_lexer": "ipython3",
   "version": "3.8.0"
  },
  "widgets": {
   "application/vnd.jupyter.widget-state+json": {
    "state": {},
    "version_major": 2,
    "version_minor": 0
   }
  }
 },
 "nbformat": 4,
 "nbformat_minor": 4
}
